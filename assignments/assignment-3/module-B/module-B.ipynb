{
 "cells": [
  {
   "cell_type": "markdown",
   "metadata": {},
   "source": [
    "# Assignment group 3: Probabilistic modeling and prediction"
   ]
  },
  {
   "cell_type": "markdown",
   "metadata": {},
   "source": [
    "## Module B _(39 pts)_ Exploring conditional probability and prediction\n",
    "In This section we're going to experiment with some recipes data again, which can be obtained from Kaggle:\n",
    "\n",
    "- https://www.kaggle.com/kaggle/recipe-ingredients-dataset\n",
    "\n",
    "As usual, they're also in the assignment's directory:\n",
    "\n",
    "- `./data/train.json`"
   ]
  },
  {
   "cell_type": "markdown",
   "metadata": {},
   "source": [
    "__B1.__ _(3 pts)_ To start, load the json data and call the resulting object `recipes`."
   ]
  },
  {
   "cell_type": "code",
   "execution_count": null,
   "metadata": {},
   "outputs": [],
   "source": [
    "# code here"
   ]
  },
  {
   "cell_type": "markdown",
   "metadata": {},
   "source": [
    "__B2.__ _(2 pts)_ Instead builing out these data as a network represented by an adjacency matrix, we'll still benefit from the latent network structure, instead storing it as an adjacency list. In particular, symmetrically store the number of shared recipes between pairs of ingredients:\n",
    "\n",
    "- ```\n",
    "    {\n",
    "        Ingredient: {\n",
    "            CoIngredient: NumSharedRecipes\n",
    "        }\n",
    "    }\n",
    "```\n",
    "\n",
    "To do this, use a default dictionary of counters:\n",
    "\n",
    "- `defaultdict(lambda : Counter())`\n",
    "\n",
    "for the co-ingredient data. \n",
    "\n",
    "Note: you are only responsible for initializing the data structure in this part."
   ]
  },
  {
   "cell_type": "code",
   "execution_count": null,
   "metadata": {},
   "outputs": [],
   "source": [
    "# code here"
   ]
  },
  {
   "cell_type": "markdown",
   "metadata": {},
   "source": [
    "__B3.__ _(5 pts)_ Now, count up the co-ingredient frequencies between all pairs of ingredients."
   ]
  },
  {
   "cell_type": "code",
   "execution_count": null,
   "metadata": {},
   "outputs": [],
   "source": [
    "# code here"
   ]
  },
  {
   "cell_type": "markdown",
   "metadata": {},
   "source": [
    "__B4.__ _(2 pts)_ In the response box below answer the following questions:\n",
    "- Why didn't we choose to construct an adjacency matrix from our co-ingredients data?\n",
    "- Why was this _adjacency list_ a more efficient choice for computing the co-ingredient frequencies?"
   ]
  },
  {
   "cell_type": "markdown",
   "metadata": {},
   "source": [
    "_Response._"
   ]
  },
  {
   "cell_type": "markdown",
   "metadata": {},
   "source": [
    "__B5.__ _(5 pts)_ Write a function that finds the probability that a recipe contains a specific ingredient:\n",
    "\n",
    "$$P(\\text{a recipe contains ingredient } A)$$\n",
    "\n",
    "This should be computed as:\n",
    "\n",
    "$$\\frac{\\text{number of times ingredient }A\\text{ is used in any recipe}}{\\text{number of recipes in the dataset}}$$\n",
    "\n",
    "When complete, exhibit that this function works by finding the probability that a recipe contains `\"feta cheese\"`."
   ]
  },
  {
   "cell_type": "code",
   "execution_count": null,
   "metadata": {},
   "outputs": [],
   "source": [
    "# code here"
   ]
  },
  {
   "cell_type": "markdown",
   "metadata": {},
   "source": [
    "__B6.__ _(5 pts)_ Now, write a function that finds the probability that a recipe contains two specific ingredients:\n",
    "\n",
    "$$P(\\text{a recipe contains ingredients } A \\text{ and } B)$$\n",
    "\n",
    "This should be computed as:\n",
    "\n",
    "$$\\frac{\\text{number of times both ingredients were used in any recipe}}{\\text{number of recipes in the dataset}}$$\n",
    "\n",
    "Exhibit that this function works by finding the probability that a recipe contains both `\"feta cheese\"` and `\"romaine lettuce\"`."
   ]
  },
  {
   "cell_type": "code",
   "execution_count": null,
   "metadata": {},
   "outputs": [],
   "source": [
    "# code here"
   ]
  },
  {
   "cell_type": "markdown",
   "metadata": {},
   "source": [
    "__B7.__ _(5 pts)_ Next, write a function that finds the probability that a recipe contains one ingredient, given we assume    the presence of another. This is the conditional probability:\n",
    "\n",
    "$$P(\\text{a recipe contains ingredient } A\\mid\\text{ it is a recipe that we know contains ingredient } B)$$\n",
    "\n",
    "which can be computed as a quotient from Bayes' rule:\n",
    "\n",
    "$$\n",
    "P(\\text{a recipe contains ingredient } A\\mid\\text{it is a recipe that we know contains ingredient } B)=\n",
    "\\frac{P(\\text{a recipe contains ingredients } A \\text{ and } B)}{P(\\text{a recipe contains ingredient } B)}\n",
    "$$\n",
    "\n",
    "i.e., using the output of our previous two functions. Exhibit that this function works by finding the probability that a recipe contains `\"feta cheese\"`, given we know it contains `\"romaine lettuce\"`."
   ]
  },
  {
   "cell_type": "code",
   "execution_count": null,
   "metadata": {},
   "outputs": [],
   "source": [
    "# code here"
   ]
  },
  {
   "cell_type": "markdown",
   "metadata": {},
   "source": [
    "__B8.__ _(7 pts)_ Finally, write a function that finds all conditional probabilities for a given conditioning ingredient. The co-ingredients and their likelihoods should be returned in a counter."
   ]
  },
  {
   "cell_type": "code",
   "execution_count": null,
   "metadata": {},
   "outputs": [],
   "source": [
    "# code here"
   ]
  },
  {
   "cell_type": "markdown",
   "metadata": {},
   "source": [
    "__B9.__ _(3 pts)_ Using your function from __B8__, find the co-ingredient likelihoods for `\"feta cheese\"`. Print out the top 10 most likely co-ingredients by using the `.most_common(10)` method and interpret the ingredients. \n",
    "\n",
    "When this is complete, answer the following questions in the response box below.\n",
    "- Are they related?\n",
    "- Do you interpret these as fitting into a common cuisine of recipes? "
   ]
  },
  {
   "cell_type": "markdown",
   "metadata": {},
   "source": [
    "_Response._"
   ]
  },
  {
   "cell_type": "code",
   "execution_count": null,
   "metadata": {},
   "outputs": [],
   "source": [
    "# code here"
   ]
  },
  {
   "cell_type": "markdown",
   "metadata": {},
   "source": [
    "__B10.__ _(2 pts)_ Finally, discuss the numeric values output in your execution of __B9__ in the response box below. In particular, consider how these output are probabilities, but definitely don't add up to 1! Why is this the case?? \n",
    "\\[Hint. think about the Sum rule and the mutual exclusivity of probabilities.\\]"
   ]
  },
  {
   "cell_type": "markdown",
   "metadata": {},
   "source": [
    "_Response._"
   ]
  }
 ],
 "metadata": {
  "kernelspec": {
   "display_name": "Python 3",
   "language": "python",
   "name": "python3"
  },
  "language_info": {
   "codemirror_mode": {
    "name": "ipython",
    "version": 3
   },
   "file_extension": ".py",
   "mimetype": "text/x-python",
   "name": "python",
   "nbconvert_exporter": "python",
   "pygments_lexer": "ipython3",
   "version": "3.7.0"
  }
 },
 "nbformat": 4,
 "nbformat_minor": 2
}
