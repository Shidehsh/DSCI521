{
 "cells": [
  {
   "cell_type": "markdown",
   "metadata": {},
   "source": [
    "# Assignment group 1: Textual feature extraction and numerical comparison"
   ]
  },
  {
   "cell_type": "markdown",
   "metadata": {},
   "source": [
    "## Module A _(35 points)_ Processing numeric data"
   ]
  },
  {
   "cell_type": "markdown",
   "metadata": {},
   "source": [
    "__A1.__ In this problem, you will be working with the demographics data from The Henry J. Kaiser Family Foundation (https://www.kff.org/) including the population of 52 locations (50 states, District of Columbia, and Puerto Rico) based on race, gender, age, and the number of adults with and without children. This data is obtained from the Census Bureau’s American Community Survey (ACS). The data is stored in a `csv` file format located in the attached `data` directory. Read the `data/demographics.csv` file into a `pandas` dataframe and print the dimensionality (using `.shape` method) and the name of the features of the dataframe. (3 points)"
   ]
  },
  {
   "cell_type": "code",
   "execution_count": 1,
   "metadata": {},
   "outputs": [],
   "source": [
    "# code here"
   ]
  },
  {
   "cell_type": "markdown",
   "metadata": {},
   "source": [
    "__A2.__ _(2 points)_ To gain a better insight into the dataframe, show the head and tail of the dataframe (using the `.head()` and `.tail()` methods)."
   ]
  },
  {
   "cell_type": "code",
   "execution_count": 2,
   "metadata": {},
   "outputs": [],
   "source": [
    "# code here"
   ]
  },
  {
   "cell_type": "markdown",
   "metadata": {},
   "source": [
    "__A3.__ _(5 points)_ As you can see, there is no `total` population column in this dataframe for each location. Therefore, create a new column which shows the summation of `Male` and `Female` populations. \n",
    "\n",
    "The `pandas` package provides a `.describe()` method which gives a descriptive summary of the desired column(s) (such as mean, standard deviation, min, and max values). Print these statistics for the column `total` which you just created. Then, compare the average population of locations obtained from `.describe()` method with the output of the `mean` method of `numpy` package. Are they the same?"
   ]
  },
  {
   "cell_type": "code",
   "execution_count": 3,
   "metadata": {},
   "outputs": [],
   "source": [
    "# code here"
   ]
  },
  {
   "cell_type": "markdown",
   "metadata": {},
   "source": [
    "__A4:__ _(5 points)_ Find the locations with the minimum and maximum populations."
   ]
  },
  {
   "cell_type": "code",
   "execution_count": 4,
   "metadata": {},
   "outputs": [],
   "source": [
    "# code here"
   ]
  },
  {
   "cell_type": "markdown",
   "metadata": {},
   "source": [
    "__A5.__ _(5 points)_ In this part, we are looking at two columns, `Adults_with_Children` and `Adults_with_No_Children`. \n",
    "It seems that the populations in these two columns do not include the children (aged younger than 18 years), and older adults (aged older than 64 years). Confirm this hypothesis for `Pennsylvania`, `Colorado`, and `Georgia` that summation of these two columns equal the summation of the population of all age-groups when two `Age0_18` and `Age_65_plus` columns are excluded (For doing that, you may create a new column `total_adults_age_groups` and compare that with the summation of `Adults_with_Children` and `Adults_with_No_Children`). "
   ]
  },
  {
   "cell_type": "code",
   "execution_count": 5,
   "metadata": {},
   "outputs": [],
   "source": [
    "# code here"
   ]
  },
  {
   "cell_type": "markdown",
   "metadata": {},
   "source": [
    "__A6:__ _(2 points)_ It seems that our hypothesis is correct for these three states. To make sure, we need to confirm that the differences between total_adults_age_groups column and summation of Adults_with_Children and Adults_with_No_Children for all the locations are zero. You can do that by looking in all the states' differences. Instead of that, create a logical rule (boolean mask) to return `False` if there is at least one non-zero value in the difference between `total_adults_age_groups` column and summation of `Adults_with_Children` and `Adults_with_No_Children`."
   ]
  },
  {
   "cell_type": "code",
   "execution_count": 6,
   "metadata": {},
   "outputs": [],
   "source": [
    "# code here"
   ]
  },
  {
   "cell_type": "markdown",
   "metadata": {},
   "source": [
    "__A7:__ _(3 points)_ It seems that our hypothesis is not correct for all the locations. We need to know what are the locations and the exact differences to see if it is due to rounding or there is a really significant difference. Create a dictionary and store locations (as `keys`) and the amount of difference between the population of adults obtained using the summation of two `Adults_with_Children` and `Adults_with_No_Children` columns and those obtained using the population of `Age_19_25`, `Age_26_34`, `Age_35_54`, `Age_55_64` age-groups (as `values`). "
   ]
  },
  {
   "cell_type": "code",
   "execution_count": 7,
   "metadata": {},
   "outputs": [],
   "source": [
    "# code here"
   ]
  },
  {
   "cell_type": "markdown",
   "metadata": {},
   "source": [
    "__A8.__ _(7 points)_ In this part, we are going to find the similarity of locations based on their races population distributions using _cosine similarity_. In cases where there is no population of one race for a location in the dataframe (the corresponding value is `NaN`), replace them with `zero` using the `.fillna()` method of `pandas`. Then, create a list and append to that each pair of locations with their similarity as a tuple, like: `(loc1, loc2, similarity value)`.\n"
   ]
  },
  {
   "cell_type": "code",
   "execution_count": 8,
   "metadata": {},
   "outputs": [],
   "source": [
    "# code here"
   ]
  },
  {
   "cell_type": "markdown",
   "metadata": {},
   "source": [
    "__A9.__ _(3 points)_ What are the two most and two least similar locations based on their races population?"
   ]
  },
  {
   "cell_type": "code",
   "execution_count": 9,
   "metadata": {},
   "outputs": [],
   "source": [
    "# code here"
   ]
  }
 ],
 "metadata": {
  "kernelspec": {
   "display_name": "Python 3",
   "language": "python",
   "name": "python3"
  },
  "language_info": {
   "codemirror_mode": {
    "name": "ipython",
    "version": 3
   },
   "file_extension": ".py",
   "mimetype": "text/x-python",
   "name": "python",
   "nbconvert_exporter": "python",
   "pygments_lexer": "ipython3",
   "version": "3.7.0"
  }
 },
 "nbformat": 4,
 "nbformat_minor": 2
}
