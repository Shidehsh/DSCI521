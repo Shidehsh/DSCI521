{
 "cells": [
  {
   "cell_type": "markdown",
   "metadata": {},
   "source": [
    "# DSCI 521: Methods for analysis and interpretation <br> Chapter 5: Data transformation, and analysis of functions\n",
    "\n",
    "## Exercises\n",
    "Note: numberings refer to the main notes."
   ]
  },
  {
   "cell_type": "markdown",
   "metadata": {},
   "source": [
    "#### 5.0.2.1 Exercise: defining a function of multiple data dimensions\n",
    "In the manner of __Sec. 5.0.1.1__, re-define `linear` as a general linear function (like $g(x,y,z)$ in __5.0.2__) that 1) accepts a vector (array) of inputs, a vector of slopes, and an intercept; 2) checks to make sure there are as many inputs as there are slopes; and 3) computes the linear result."
   ]
  },
  {
   "cell_type": "code",
   "execution_count": 3,
   "metadata": {},
   "outputs": [],
   "source": [
    "# code here"
   ]
  },
  {
   "cell_type": "markdown",
   "metadata": {},
   "source": [
    "#### 5.0.2.2 Exercise: defining a general polynomial\n",
    "The task here again is to generalize the function `linear` from __Sec. 5.0.1.1__, but now differently, as a polynomial of a single dimension. This new function should be called `poly` and accept a single input $x$ on which to perform the polynomial calculation, a vector (array) of coefficients $c$, and an intercept. The function should then 1) determine the degree of the polynomial from the number of coefficients (assumed to be in a fixed order, i.e., low to high), and 2) compute the polynomial output value."
   ]
  },
  {
   "cell_type": "code",
   "execution_count": 4,
   "metadata": {},
   "outputs": [],
   "source": [
    "## code here"
   ]
  },
  {
   "cell_type": "markdown",
   "metadata": {},
   "source": [
    "\n",
    "#### 5.0.3.1 Challenge exercise: defining a general polynomial of multiple dimensions\n",
    "To define a general polynomial of multiple dimensions, we'll specify only the non-zero coefficients for specific terms. To complete this exercise, have your function accept 1) a vector of input values and a 2) dictionary of coefficients such that each key is a tuple referring to the relevant powers of inputs and each value is the corresponding coefficient. The function should be called `multi_poly` and output the real-valued result. So for the relatively sparse (degree-7) polynomial:\n",
    "\n",
    "$$h(x,y,z) = 3x^2yz^4 +  8xy^2z^3 + 2yz^4 + 7x^2y +5$$\n",
    "\n",
    "the parameter-setting dictionary required as a second argument would be:\n",
    "```\n",
    "{\n",
    "    (2,1,4): 3,\n",
    "    (1,2,3): 8,\n",
    "    (0,1,4): 2,\n",
    "    (2,1,0): 7,\n",
    "    (0,0,0): 5\n",
    "}\n",
    "```"
   ]
  },
  {
   "cell_type": "code",
   "execution_count": 5,
   "metadata": {},
   "outputs": [],
   "source": [
    "# code here"
   ]
  },
  {
   "cell_type": "markdown",
   "metadata": {},
   "source": [
    "#### 5.0.3.3 Exercise: defining the logistic function\n",
    "The [_logistic function_](https://en.wikipedia.org/wiki/Logistic_function) is a special mathematical function based on the exponential function that is used widely in neural network applications. It's a common \"S\" shape (sigmoid curve), with equation:\n",
    "\n",
    "$$f(x)= \\frac {L}{1+e^{-k(x-x_{0})}},$$\n",
    "\n",
    "where\n",
    "\n",
    "- $x_0$ = the x-value of the function's midpoint,\n",
    "- $L$ = the function's maximum value, and\n",
    "- $k$ = the steepness of the 's'.\n",
    "\n",
    "Your job here is to create a (computational) implementation of the logistic function, `logistic(x, k)`, accepting a values for $x$ and the above parameters, but with presets: $k = 1$, $L=1$, and $x_0 = 0$."
   ]
  },
  {
   "cell_type": "code",
   "execution_count": 8,
   "metadata": {},
   "outputs": [],
   "source": [
    "## place code here"
   ]
  },
  {
   "cell_type": "markdown",
   "metadata": {},
   "source": [
    "#### 5.0.5.3 Exercise: functionalizing products by logarithmic summation\n",
    "Write a function called `safe_product()` that takes an arbitrary list of _positive_ numbers and computes their product by completing the sum of logarithms routine outlined above. If any of the numbers to be multiplied are zero, the function should detect this and just `return  0` immediately. For any of the numbers that are negative, they should be counted and negated before taking any logarithms. The final output should then `return product` if there were an even number of negative numbers, and `return -product` if there were an odd number."
   ]
  },
  {
   "cell_type": "code",
   "execution_count": 13,
   "metadata": {},
   "outputs": [],
   "source": [
    "## code here"
   ]
  },
  {
   "cell_type": "markdown",
   "metadata": {},
   "source": [
    "#### 5.1.2.2 Exercise: computing derivative approximations\n",
    "Compute derivative approximations using `difference_quotient` for the `square` and `linear` functions (assuming default coefficients) for a number of different values of `x` and `h`. Do these approximations appear to change as these values are adjusted? How does `h` appear to affect the approximations at a _given_ value?"
   ]
  },
  {
   "cell_type": "code",
   "execution_count": 19,
   "metadata": {},
   "outputs": [],
   "source": [
    "## code here"
   ]
  },
  {
   "cell_type": "markdown",
   "metadata": {},
   "source": [
    "#### 5.1.2.4 Exercise: Making sense of derivatives\n",
    "Considering the two applications of the difference quotient in __Secs. 5.1.2.1&ndash;5.1.2.3__, make sense of their ouput. Do the derivative rules (above) suggest these approximations were accurate? Discuss!"
   ]
  },
  {
   "cell_type": "markdown",
   "metadata": {},
   "source": [
    "_Response._"
   ]
  },
  {
   "cell_type": "markdown",
   "metadata": {},
   "source": [
    "#### 5.1.2.5 Exercise: calculating logistic derivatives\n",
    "Using the above derivative rules, show that the derivative of the _standard_ logistic function (i.e., with the presets requested in __Sec. 5.0.3.3__) has the following special property: \n",
    "\n",
    "$$f'(x) = f(x)(1 - f(x))$$\n",
    "\n",
    "and use this property to define a (computing) function that calculates derivatives from the logistic function requested in __Sec. 5.0.3.3__."
   ]
  },
  {
   "cell_type": "markdown",
   "metadata": {},
   "source": [
    "_Response._"
   ]
  },
  {
   "cell_type": "code",
   "execution_count": 20,
   "metadata": {},
   "outputs": [],
   "source": [
    "## code here"
   ]
  },
  {
   "cell_type": "markdown",
   "metadata": {},
   "source": [
    "#### 5.1.3.14 Exercise: more gradient descent implementations\n",
    "Gradient descent and the logistic function go hand-in-hand in many application contexts. Set up an implementation of gradient descent (as in __Sec. 5.1.3.8__) setting 'true' parameters and 'noisy data' for the logistic function (as requested in __Sec. 5.0.3.3__). Run it using both of the batch and and stochastic implementations, but utilize the gradient approximations. Which implementation works better, faster? Did the same set of step sizes work?"
   ]
  },
  {
   "cell_type": "code",
   "execution_count": 46,
   "metadata": {},
   "outputs": [],
   "source": [
    "## code here"
   ]
  }
 ],
 "metadata": {
  "kernelspec": {
   "display_name": "Python 3",
   "language": "python",
   "name": "python3"
  },
  "language_info": {
   "codemirror_mode": {
    "name": "ipython",
    "version": 3
   },
   "file_extension": ".py",
   "mimetype": "text/x-python",
   "name": "python",
   "nbconvert_exporter": "python",
   "pygments_lexer": "ipython3",
   "version": "3.6.5"
  }
 },
 "nbformat": 4,
 "nbformat_minor": 2
}
