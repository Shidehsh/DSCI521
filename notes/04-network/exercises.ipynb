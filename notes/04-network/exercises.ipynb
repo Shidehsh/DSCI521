{
 "cells": [
  {
   "cell_type": "markdown",
   "metadata": {},
   "source": [
    "# DSCI 521: Methods for analysis and interpretation <br> Chapter 4: Networks, metrics, and applications\n",
    "\n",
    "## Exercises\n",
    "Note: numberings refer to the main notes."
   ]
  },
  {
   "cell_type": "markdown",
   "metadata": {},
   "source": [
    "#### 4.1.3.2 Exercise: building a network \n",
    "Build any arbitrary network with 5 nodes and describe how the  resulting adjacency matrix and link lists relate to the links added in the network's construction, i.e., explain the $0$s, $1$s, and lists in the resulting Graph's numpy matrix and dict of lists."
   ]
  },
  {
   "cell_type": "code",
   "execution_count": 7,
   "metadata": {},
   "outputs": [],
   "source": [
    "## code here"
   ]
  },
  {
   "cell_type": "markdown",
   "metadata": {},
   "source": [
    "#### 4.1.4.3 Exercise: network visualization\n",
    "Visualize a network of your choosing with 2 different layouts."
   ]
  },
  {
   "cell_type": "code",
   "execution_count": 13,
   "metadata": {},
   "outputs": [],
   "source": [
    "## code here"
   ]
  },
  {
   "cell_type": "markdown",
   "metadata": {},
   "source": [
    "#### 4.2.1.12 Exercise: implementing a PageRank experiment\n",
    "Run pagerank using the code provided in __Sec. 3.2.1.10__, but on a small network of your design loaded into NetworkX. Use this to pull out a numpy matrix and run the algorithm. Review the output, and interpret which node is the 'most important'."
   ]
  },
  {
   "cell_type": "code",
   "execution_count": 27,
   "metadata": {},
   "outputs": [],
   "source": [
    "## code here"
   ]
  },
  {
   "cell_type": "markdown",
   "metadata": {},
   "source": [
    "#### 4.2.2.8 Exercise: the apriori algorithm\n",
    "Make up a tiny market basket dataset with $10$ baskets of `{A,B,D,F}`-like purchases make sure they have overlapping itemsets! Then, utilize the apriori principle to find all frequent itemsets, given a set support threshold (of your choosing)."
   ]
  },
  {
   "cell_type": "code",
   "execution_count": 28,
   "metadata": {},
   "outputs": [],
   "source": [
    "## code here"
   ]
  }
 ],
 "metadata": {
  "kernelspec": {
   "display_name": "Python 3",
   "language": "python",
   "name": "python3"
  },
  "language_info": {
   "codemirror_mode": {
    "name": "ipython",
    "version": 3
   },
   "file_extension": ".py",
   "mimetype": "text/x-python",
   "name": "python",
   "nbconvert_exporter": "python",
   "pygments_lexer": "ipython3",
   "version": "3.6.5"
  }
 },
 "nbformat": 4,
 "nbformat_minor": 2
}
