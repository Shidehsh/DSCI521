{
 "cells": [
  {
   "cell_type": "markdown",
   "metadata": {},
   "source": [
    "# DSCI 521: Methods for analysis and interpretation <br> Chapter 4: Networks, metrics, and applications\n",
    "\n",
    "## 4.1 Networks\n",
    "\n",
    "We've already discussed how linear algebra lets us do arithmetic with lots of data and manage data with many variables. It will also allow us to measure comparisons of variables in a holistic context, and even provide insight into when we can get rid of some data for not contributing much information. In other words, it can tell us which variables in our data are the most important. But the key perspective&mdash;that linear algebra provides&mdash;of focus here is the networks framework for analysis. Networks are also called graphs, and we'll use vernaculars from time to time. Intuitively, networks model relationships between entities, such as: who's friends with whom? You've probably seen them before depicted as ball-and-stick diagrams and referred to as social networks:\n",
    "\n",
    "![social_network](images/Social-network.png)"
   ]
  },
  {
   "cell_type": "markdown",
   "metadata": {},
   "source": [
    "### 4.1.1 Defining networks: Links (Edges) and Nodes (Vertices)\n",
    "\n",
    "To define a network you have to keep track of two different collections: nodes and links (which are also referred to as $\\mathcal{V}$ertices and $\\mathcal{E}$dges, respectively, in the graph vernacular). We'll refer to these by the former names for their intuitiveness. The nodes (i.e., balls) are the entities, e.g., people in a social network, and are represented by a set of unique identifiers:\n",
    "$$\\mathcal{V} = \\{A, B, C, D, E, F, G\\}.$$\n",
    "\n",
    "With a set of nodes, a network's links are then described by a set of pairs of nodes. The order in which the nodes are listed in each pair can indicate the link's direction:\n",
    "$$\\mathcal{E} = \\{AF, BE, CB, CD, DE, EB, EG, FE, GA\\}.$$"
   ]
  },
  {
   "cell_type": "markdown",
   "metadata": {},
   "source": [
    "### 4.1.2 Representing networks\n",
    "\n",
    "#### 4.1.2.1 Adjacency matrices\n",
    "To represent a network in a computer, we can use a square matrix called an _adjacency matrix_. Think of it as having the names of the nodes along the rows and the columns to store the existence of a link pointing from node $X$ to $Y$ by a non-zero entry in row $X$, column $Y$. So, continuing with our example above we would have the adjacency matrix:\n",
    "\n",
    "$$ \\begin{matrix} & A & B & C & D & E & F & G \\\\ A & 0 & 0 & 0 & 0 & 0 & 1 & 0 \\\\ B & 0 & 0 & 0 & 0 & 1 & 0 & 0 \\\\ C & 0 & 1 & 0 & 1 & 0 & 0 & 0 \\\\ D & 0 & 0 & 0 & 0 & 1 & 0 & 0 \\\\ E & 0 & 1 & 0 & 0 & 0 & 0 & 1 \\\\ F & 0 & 0 & 0 & 0 & 1 & 0 & 0 \\\\ G & 1 & 0 & 0 & 0 & 0 & 0 & 0 \\end{matrix} $$\n",
    "\n",
    "We can store this easily in Python by using a numpy array and take row and column sums to see which nodes have the most incoming and outgoing links:"
   ]
  },
  {
   "cell_type": "code",
   "execution_count": 4,
   "metadata": {},
   "outputs": [
    {
     "name": "stdout",
     "output_type": "stream",
     "text": [
      "[1 1 2 1 2 1 1] \n",
      "\n",
      "[1 2 0 1 3 1 1] \n",
      "\n"
     ]
    }
   ],
   "source": [
    "import numpy as np\n",
    "\n",
    "## Store our network in an adjacency matrix\n",
    "adj = np.array([\n",
    "    [ 0, 0, 0, 0, 0, 1, 0],\n",
    "    [ 0, 0, 0, 0, 1, 0, 0],\n",
    "    [ 0, 1, 0, 1, 0, 0, 0],\n",
    "    [ 0, 0, 0, 0, 1, 0, 0],\n",
    "    [ 0, 1, 0, 0, 0, 0, 1],\n",
    "    [ 0, 0, 0, 0, 1, 0, 0],\n",
    "    [ 1, 0, 0, 0, 0, 0, 0]\n",
    "])\n",
    "\n",
    "## find the outgoing numbers of links (axis = 1)\n",
    "## a.k.a., the row sums\n",
    "print(np.sum(adj, axis = 1), '\\n')\n",
    "\n",
    "## find the incoming numbers of links (axis = 0)\n",
    "## a.k.a., the column sums\n",
    "print(np.sum(adj, axis = 0), '\\n')"
   ]
  },
  {
   "cell_type": "markdown",
   "metadata": {},
   "source": [
    "#### 4.1.2.2 Adjacency lists\n",
    "Actually, there's a lot of unnecessary data here in the adjacency matrix picture. While the adjacency matrix is the mathematical way in which a network is represented and operated on, it wastes a lot of storage space (on the computer). Since many networks are _sparse_, or only have a few links relative to the total number that are possible, it is often much more efficent to create adjacency lists, which represent links as either incoming or outgoing only. For simplicity, let's create one for the outgoing links. This technically is all that is needed to represent the entire network. Here's a good question and exercise:\n",
    "\n",
    "+ What does it take to create an incoming adjacency list?"
   ]
  },
  {
   "cell_type": "code",
   "execution_count": 5,
   "metadata": {},
   "outputs": [
    {
     "name": "stdout",
     "output_type": "stream",
     "text": [
      "C's number of outgoing links: 2\n"
     ]
    }
   ],
   "source": [
    "## Store our network in an outgoing adjacency list\n",
    "adj_list = {\n",
    "    \"A\": [\"G\"],\n",
    "    \"B\": [\"E\"],\n",
    "    \"C\": [\"B\", \"D\"],\n",
    "    \"D\": [\"E\"],\n",
    "    \"E\": [\"B\", \"G\"],\n",
    "    \"F\": [\"E\"],\n",
    "    \"G\": [\"A\"]\n",
    "}\n",
    "\n",
    "## check out Cs outgoing links\n",
    "print(\"C's number of outgoing links:\", len(adj_list[\"C\"]))"
   ]
  },
  {
   "cell_type": "markdown",
   "metadata": {},
   "source": [
    "### 4.1.3 Managing network data \n",
    "\n",
    "Managing network data can be a lot of work, whether using ordered and/ora associative structures. So, instead of dealing with our own home-built data structures for networks, we should really be using the modules that have been built to handle networks in Python. These work a lot like `PIL` handles images for Python; the main one that we'll be using is called `NetworkX`: \n",
    "\n",
    "#### 4.1.3.1 Building networks with `NetworkX`\n",
    "Here's how we build a `G`raph from the ground up using `NetworkX`, adding nodes and links one or more at a time. Here's the links again for reference:\n",
    "\n",
    "$$\\mathcal{E} = \\{AF, BE, CB, CD, DE, EB, EG, FE, GA\\}.$$"
   ]
  },
  {
   "cell_type": "code",
   "execution_count": 6,
   "metadata": {},
   "outputs": [
    {
     "name": "stdout",
     "output_type": "stream",
     "text": [
      "[[0. 0. 0. 0. 1. 0. 0.]\n",
      " [0. 0. 0. 0. 0. 0. 1.]\n",
      " [0. 1. 0. 1. 0. 0. 0.]\n",
      " [0. 0. 0. 0. 0. 0. 1.]\n",
      " [0. 0. 0. 0. 0. 0. 1.]\n",
      " [1. 0. 0. 0. 0. 0. 0.]\n",
      " [0. 1. 0. 0. 0. 1. 0.]]\n",
      "{'A': ['F'], 'B': ['E'], 'C': ['B', 'D'], 'D': ['E'], 'F': ['E'], 'G': ['A'], 'E': ['B', 'G']}\n"
     ]
    }
   ],
   "source": [
    "import networkx as nx\n",
    "\n",
    "## initialize our network\n",
    "G = nx.DiGraph()\n",
    "\n",
    "## add one node at a time\n",
    "G.add_node(\"A\")\n",
    "\n",
    "## add the rest of the nodes at once\n",
    "G.add_nodes_from([\"B\",\"C\",\"D\",\"F\",\"G\"])\n",
    "\n",
    "## add one edge at a time\n",
    "G.add_edge(\"A\",\"F\")\n",
    "\n",
    "## add links all at once\n",
    "G.add_edges_from([(\"E\", \"B\"),(\"B\", \"E\"),(\"C\", \"B\"),\n",
    "                  (\"C\", \"D\"),(\"D\", \"E\"),(\"E\", \"B\"),\n",
    "                  (\"E\", \"G\"),(\"F\", \"E\"),(\"G\", \"A\")])\n",
    "\n",
    "## if we want back an adjacency matrix\n",
    "print(nx.to_numpy_matrix(G))\n",
    "\n",
    "## if we want back our outgoing adjacency list\n",
    "print(nx.to_dict_of_lists(G))\n",
    "\n"
   ]
  },
  {
   "cell_type": "markdown",
   "metadata": {},
   "source": [
    "#### 4.1.3.2 Exercise: building a network \n",
    "Build any arbitrary network with 5 nodes and describe how the  resulting adjacency matrix and link lists relate to the links added in the network's construction, i.e., explain the $0$s, $1$s, and lists in the resulting Graph's numpy matrix and dict of lists."
   ]
  },
  {
   "cell_type": "code",
   "execution_count": 7,
   "metadata": {},
   "outputs": [],
   "source": [
    "## code here"
   ]
  },
  {
   "cell_type": "markdown",
   "metadata": {},
   "source": [
    "#### 4.1.3.3 Directed vs. undirected networks\n",
    "\n",
    "So far, we've been saying things like: \"A links points from $X$ to $Y$.\", but this is only meaningful when defining _directed_ networks. The other concept that exists is the notion of an undirected network, where any link/relationship is reciprocal. For an undirected graph, its adjacency matrix is symmetric, so if $X$ links to $Y$, $Y$ links to $X$. In this case, our adjacency matrix would be:\n",
    "\n",
    " $$ \\begin{matrix} & A & B & C & D & E & F & G \\\\ A & 0 & 0 & 0 & 0 & 0 & 1 & 1 \\\\ B & 0 & 0 & 1 & 0 & 1 & 0 & 0 \\\\ C & 0 & 1 & 0 & 1 & 0 & 0 & 0 \\\\ D & 0 & 0 & 1 & 0 & 1 & 0 & 0 \\\\ E & 0 & 1 & 0 & 1 & 0 & 1 & 1 \\\\ F & 1 & 0 & 0 & 0 & 1 & 0 & 0 \\\\ G & 1 & 0 & 0 & 0 & 1 & 0 & 0 \\end{matrix} $$\n",
    " \n",
    "However, I prefer to think of all networks as directed, because any directed network can be turned into an undirected network (like we just did above), and any undirected network can be built from directed links. This makes the directed networks framework slightly more general. You can easily turn a directed graph into an undirected one with `NetworkX`, too:"
   ]
  },
  {
   "cell_type": "code",
   "execution_count": 8,
   "metadata": {},
   "outputs": [
    {
     "data": {
      "text/plain": [
       "matrix([[0., 0., 0., 0., 1., 1., 0.],\n",
       "        [0., 0., 1., 0., 0., 0., 1.],\n",
       "        [0., 1., 0., 1., 0., 0., 0.],\n",
       "        [0., 0., 1., 0., 0., 0., 1.],\n",
       "        [1., 0., 0., 0., 0., 0., 1.],\n",
       "        [1., 0., 0., 0., 0., 0., 1.],\n",
       "        [0., 1., 0., 1., 1., 1., 0.]])"
      ]
     },
     "execution_count": 8,
     "metadata": {},
     "output_type": "execute_result"
    }
   ],
   "source": [
    "## Turn our directed network into an undirected network\n",
    "G_undirected = nx.Graph(G)\n",
    "\n",
    "## check out the adjacency matrix of our undirected network\n",
    "nx.to_numpy_matrix(G_undirected)"
   ]
  },
  {
   "cell_type": "markdown",
   "metadata": {},
   "source": [
    "#### 4.1.3.4 Weighted vs unweighted graphs\n",
    "\n",
    "Another generalization of networks is link _weighting_. In this case, not all links are created equally. One relationship might be stronger than another, which can be encoded by a variable number in each position of the adjacency matrix. So, here's a weighting of our original network:\n",
    "\n",
    " $$ \\begin{matrix} & A & B & C & D & E & F & G \\\\ A & 0 & 0 & 0 & 0 & 0 & 0.1 & 0 \\\\ B & 0 & 0 & 0 & 0 & 2 & 0 & 0 \\\\ C & 0 & 10 & 0 & 1 & 0 & 0 & 0 \\\\ D & 0 & 0 & 0 & 0 & 1 & 0 & 0 \\\\ E & 0 & 3 & 0 & 0 & 0 & 0 & 1 \\\\ F & 0 & 0 & 0 & 0 & 0.5 & 0 & 0 \\\\ G & 4 & 0 & 0 & 0 & 0 & 0 & 0 \\end{matrix} $$\n",
    " \n",
    "we can adjust link weights in `NetworkX` as follows:"
   ]
  },
  {
   "cell_type": "code",
   "execution_count": 9,
   "metadata": {},
   "outputs": [
    {
     "name": "stdout",
     "output_type": "stream",
     "text": [
      "[[ 0.   0.   0.   0.   0.1  0.   0. ]\n",
      " [ 0.   0.   0.   0.   0.   0.   2. ]\n",
      " [ 0.  10.   0.   1.   0.   0.   0. ]\n",
      " [ 0.   0.   0.   0.   0.   0.   1. ]\n",
      " [ 0.   0.   0.   0.   0.   0.   0.5]\n",
      " [ 4.   0.   0.   0.   0.   0.   0. ]\n",
      " [ 0.   3.   0.   0.   0.   1.   0. ]]\n"
     ]
    }
   ],
   "source": [
    "## initialize our network\n",
    "G = nx.DiGraph()\n",
    "\n",
    "## add nodes all at once\n",
    "G.add_nodes_from([\"A\", \"B\", \"C\", \"D\", \"F\", \"G\"])\n",
    "\n",
    "## add a single weighted edge\n",
    "G.add_edge(\"A\", \"F\", weight = 0.1)\n",
    "\n",
    "## add the remaining links all at once\n",
    "G.add_weighted_edges_from(\n",
    "    [(\"B\", \"E\", 2),(\"C\", \"B\", 10),(\"C\", \"D\", 1),(\"D\", \"E\", 1),(\"E\", \"B\", 3),(\"E\", \"G\",1),(\"F\", \"E\", 0.5),(\"G\", \"A\", 4)]\n",
    ")\n",
    "\n",
    "## if we want back an adjacency matrix\n",
    "print(nx.to_numpy_matrix(G))"
   ]
  },
  {
   "cell_type": "markdown",
   "metadata": {},
   "source": [
    "### 4.1.4 Visualizing Networks: Hairballs\n",
    "\n",
    "Going back to our motivational picture: \n",
    "\n",
    "![social_network](images/Social-network.png)\n",
    "\n",
    "You might be interested to make your own network visualizations! Well let's take a moment to think about this before we play with visualization. Here's the problem: just like the binning of a histogram is a relatively arbitrary thing to decide, so is the _layout_ of a network. By layout, we mean where the balls are located relative to one another. As a result, a number of different layout schemes have been created to incorporate things like weighting and density of linking. \n",
    "\n",
    "#### 4.1.4.1 Visualization with `NetworkX`\n",
    "Here's the basic drawing capacity for `NetworkX`, and for fun, a way to bring your favorite network data in _from_ a `NumPy` array (adjacency matrix). You should ask youself: \"What are those funny collars on the links?\" Arrows, direction!"
   ]
  },
  {
   "cell_type": "code",
   "execution_count": 10,
   "metadata": {},
   "outputs": [
    {
     "data": {
      "image/png": "[encoded data removed]",
      "text/plain": [
       "<Figure size 432x432 with 1 Axes>"
      ]
     },
     "metadata": {},
     "output_type": "display_data"
    }
   ],
   "source": [
    "%matplotlib inline\n",
    "import matplotlib.pyplot as plt\n",
    "\n",
    "## our network as an adjacency matrix\n",
    "adj = np.array([\n",
    "    [ 0, 0, 0, 0, 0, 1, 0],\n",
    "    [ 0, 0, 0, 0, 1, 0, 0],\n",
    "    [ 0, 1, 0, 1, 0, 0, 0],\n",
    "    [ 0, 0, 0, 0, 1, 0, 0],\n",
    "    [ 0, 1, 0, 0, 0, 0, 1],\n",
    "    [ 0, 0, 0, 0, 1, 0, 0],\n",
    "    [ 1, 0, 0, 0, 0, 0, 0]\n",
    "])\n",
    "\n",
    "## the names of our nodes\n",
    "names = {\n",
    "    0: \"A\",\n",
    "    1: \"B\",\n",
    "    2: \"C\",\n",
    "    3: \"D\",\n",
    "    4: \"E\",\n",
    "    5: \"F\",\n",
    "    6: \"G\"\n",
    "}\n",
    "\n",
    "## bringing our adjacency matrix into networkX\n",
    "G = nx.from_numpy_matrix(adj, create_using = nx.DiGraph())\n",
    "\n",
    "## adding in the node labels\n",
    "G = nx.relabel_nodes(G,names)\n",
    "\n",
    "## make our figure a nice size (using matplotlib)\n",
    "fig = plt.figure(figsize = (6,6))\n",
    "\n",
    "## draw our network\n",
    "nx.draw(G, with_labels = True)"
   ]
  },
  {
   "cell_type": "markdown",
   "metadata": {},
   "source": [
    "#### 4.1.4.2 Layouts\n",
    "That was the default, _spring_ layout. It's probably called the spring layout because the nodes push apart from one another. However, there's also some randomness built into, i.e., if we run the same plot again we'll get a different picture! To emphasize just how different network visualizations can be, here's the circular layout:"
   ]
  },
  {
   "cell_type": "code",
   "execution_count": 11,
   "metadata": {},
   "outputs": [
    {
     "data": {
      "image/png": "[encoded data removed]",
      "text/plain": [
       "<Figure size 432x432 with 1 Axes>"
      ]
     },
     "metadata": {},
     "output_type": "display_data"
    }
   ],
   "source": [
    "## make our figure a nice size (it's still matplotlib)\n",
    "fig = plt.figure(figsize = (6,6))\n",
    "\n",
    "## draw our network\n",
    "nx.draw(G, with_labels = True, pos = nx.circular_layout(G))"
   ]
  },
  {
   "cell_type": "markdown",
   "metadata": {},
   "source": [
    "The spring layout is a bit more common, but just for fun here's a crazy one. If you're curious, this one works to\n",
    "> Position nodes using the eigenvectors of the graph Laplacian.\n",
    "\n",
    "or in other words, the adjacency matrix eigenvectors&mdash;go linear algebra!"
   ]
  },
  {
   "cell_type": "code",
   "execution_count": 12,
   "metadata": {},
   "outputs": [
    {
     "data": {
      "image/png": "[encoded data removed]",
      "text/plain": [
       "<Figure size 432x432 with 1 Axes>"
      ]
     },
     "metadata": {},
     "output_type": "display_data"
    }
   ],
   "source": [
    "## make our figure a nice size (it's still matplotlib)\n",
    "fig = plt.figure(figsize = (6,6))\n",
    "\n",
    "## draw our network\n",
    "nx.draw(G, with_labels = True, pos = nx.spectral_layout(G))"
   ]
  },
  {
   "cell_type": "markdown",
   "metadata": {},
   "source": [
    "#### 4.1.4.3 Exercise: network visualization\n",
    "Visualize a network of your choosing with 2 different layouts."
   ]
  },
  {
   "cell_type": "code",
   "execution_count": 13,
   "metadata": {},
   "outputs": [],
   "source": [
    "## code here"
   ]
  },
  {
   "cell_type": "markdown",
   "metadata": {},
   "source": [
    "#### 4.1.4.4 Hairballs\n",
    "The real problem with network visualization is that you can't tell what's going on when a network gets big... i.e., you wind up with a _hairball_. We could go on about how the different layout schemes are ambiguous, but perhaps the real issue is that most interesting networks have a _lot_ of nodes and links. Visualizing in this circumstance almost makes it impossible to tell what's going on, which is why we call them hairballs. Sure, a hairball might _look cool_, but does it actually provide any insight? To see this kind of issue let's look at a real-world social network drawn from the Twitter _platform_ by the Stanford Network Analysis Project (SNAP):\n",
    "+ https://snap.stanford.edu/data/egonets-Twitter.html\n",
    "\n",
    "This data set has about 80k nodes and 1.75 million links, so it's pretty big! The way they stored the data is with 1) anonymized IDs, in a simplest-possible space-separated two-column format. This makes it a bit easier to store, but we'll have to use a bit of work to pull it in to `NetworkX`. Note: the file is contained with this lecture in:\n",
    "+ `./data/twitter_combined.txt`\n",
    "\n",
    "If you're interested in networks, SNAP has a number of other exampls of networks drawn from different phenomena. Here's the master index:\n",
    "+ https://snap.stanford.edu/data/\n",
    "\n",
    "#### 4.1.4.5 Example, loading a network with Python-basic file i/o\n",
    "First, we have to load the data in. Perhaps to be growable, the network's in a pretty raw format: space-delimited lines of `<sourceID> <targetID>` links (the link list implies the node names. This format actually makes it very easy to   grow/evolve the implied dnetwork over time, and new links may just be appended.\n",
    "\n",
    "Note: since our goal is to visualize, we'll have to limit this network to just 5000 links!"
   ]
  },
  {
   "cell_type": "code",
   "execution_count": 14,
   "metadata": {},
   "outputs": [],
   "source": [
    "## we'll need regular expressions to split the columns\n",
    "import re\n",
    "\n",
    "big_G = nx.DiGraph()\n",
    "\n",
    "numlinks = 0\n",
    "\n",
    "## open the  network file\n",
    "with open(\"./data/twitter_combined.txt\", \"r\") as f:\n",
    "    ## loop over the lines\n",
    "    for line in f:\n",
    "        source, target = re.split(\" \", line.strip())\n",
    "        big_G.add_edge(source, target)\n",
    "        \n",
    "        numlinks += 1\n",
    "        if numlinks == 5000:\n",
    "            break"
   ]
  },
  {
   "cell_type": "markdown",
   "metadata": {},
   "source": [
    "#### 4.1.4.6 Making a hairball look decent\n",
    "When a network gets large enough, drawing the labels looks pretty bad, so let's just see what happens when we plot it with no labels."
   ]
  },
  {
   "cell_type": "code",
   "execution_count": 15,
   "metadata": {},
   "outputs": [
    {
     "data": {
      "image/png": "[encoded data removed]",
      "text/plain": [
       "<Figure size 432x432 with 1 Axes>"
      ]
     },
     "metadata": {},
     "output_type": "display_data"
    }
   ],
   "source": [
    "## make our figure a nice size (it's still matplotlib)\n",
    "fig = plt.figure(figsize = (6,6))\n",
    "\n",
    "## draw our network---don't plot the labels!!\n",
    "nx.draw(big_G, with_labels = False)\n",
    "\n"
   ]
  },
  {
   "cell_type": "markdown",
   "metadata": {},
   "source": [
    "As you can see, this still isn't very easy to understand, particularly since the nodes are large, non-transparent, and overlapping. We can make this a bit better by just drawing the network edges."
   ]
  },
  {
   "cell_type": "code",
   "execution_count": 16,
   "metadata": {},
   "outputs": [
    {
     "data": {
      "image/png": "[encoded data removed]",
      "text/plain": [
       "<Figure size 432x432 with 1 Axes>"
      ]
     },
     "metadata": {},
     "output_type": "display_data"
    }
   ],
   "source": [
    "## make our figure a nice size (it's still matplotlib)\n",
    "fig = plt.figure(figsize = (6,6))\n",
    "\n",
    "## draw our network---don't plot the labels!!\n",
    "_ = nx.draw_networkx_edges(big_G, pos = nx.spring_layout(big_G))\n",
    "\n",
    "##\n",
    "_ = plt.axis(\"off\")"
   ]
  },
  {
   "cell_type": "markdown",
   "metadata": {},
   "source": [
    "Even still, we can't see where these nodes are. So, let's try and at least get at some notion of density with a bit of alpha (transparency)."
   ]
  },
  {
   "cell_type": "code",
   "execution_count": 17,
   "metadata": {},
   "outputs": [
    {
     "data": {
      "image/png": "[encoded data removed]",
      "text/plain": [
       "<Figure size 432x432 with 1 Axes>"
      ]
     },
     "metadata": {},
     "output_type": "display_data"
    }
   ],
   "source": [
    "## make our figure a nice size (it's still matplotlib)\n",
    "fig = plt.figure(figsize = (6,6))\n",
    "\n",
    "## draw our network---don't plot the labels!!\n",
    "_ = nx.draw_networkx_edges(big_G, pos = nx.spring_layout(big_G), alpha = 0.05)\n",
    "\n",
    "##\n",
    "_ = plt.axis(\"off\")"
   ]
  },
  {
   "cell_type": "markdown",
   "metadata": {},
   "source": [
    "## 4.2 Network modeling\n",
    "While it's great for practice and intuition building, ball-and-stick network visualization is relatively limited in its ability to provide exploratory insight, perhaps most of all because of the ambiguities surrounding layout.  So, if looking at networks is limited, how do we work with them? Well, if you're not getting the picture: networks impose serious computational challenges, and they are difficult to interpret. This is why there's a whole field of study that has opened up around them: network science. This field is much more oriented towards quantitative analysis than visualization. When it comes to exploratory analysis, network _statistics_&mdash;and visualizations of them&mdash;generally provide more insight, and will come up again when we get more into exploratory data analysis (EDA).\n",
    "\n",
    "But EDA is not the focus of our conversation here. We're interested in understanding how networks can be used as modeling tools, and will do so by discussing one very important networks method for analysis that was designed in one of the first big advances of data science: Google's web search."
   ]
  },
  {
   "cell_type": "markdown",
   "metadata": {},
   "source": [
    "### 4.2.1 Application: Google's web search\n",
    "Well, we made it. All of this just to tell you how Google works? It's true, Google was okay&mdash;just another web search company&mdash;before they came up with their algorithm that changed things. What's that algorithm?\n",
    "\n",
    "+ Find the primary eigenvector of a network's inbound transition matrix! \n",
    "\n",
    "Ultimately, what Google's _PageRank_ algorithm tells us is the portion of web surfers who will wind up at a web page from clicking their way around the internet: a model for how people behave online."
   ]
  },
  {
   "cell_type": "markdown",
   "metadata": {},
   "source": [
    "#### 4.2.1.1 The random websurfer model\n",
    "The easiest way to start thinking about this has to do with random web surfers. The basic idea that the folks at Google had was that people click on webpages randomly. At whatever webpage they're at, there would be a few links sitting in front of them, and they would choose one, randomly. This idea eventually got dubbed the \"random surfer\" model. People would just keep clicking, around and around, until eventually, with some fixed probability, they would give up and start all over again from some entirely new page, at random, with some probability—we'll call this give-up-and-start-over probability $\\alpha$.\n",
    "\n",
    "![graph](images/random-graph-walk.jpg)"
   ]
  },
  {
   "cell_type": "markdown",
   "metadata": {},
   "source": [
    "#### 4.2.1.2 Pages and hyperlinks? Nodes and edges.\n",
    "This is a networks picture! Perhaps the key insight that they leveraged with this model is the perspective that the world wide web is a directed network of pages connected by hyperlinks. So, the world wide web looks like one giant network to Google. There are huuuge challenges in working with the whole world wide web, but we're not going to worry about that now! Instead, we'll just look at our old example network (from above).\n",
    "\n",
    "#### 4.2.1.3 Transition matrices\n",
    "Starting with an adjacency matrix:\n",
    "$$ A = \\begin{bmatrix} a_{1,1} & a_{1,2} & \\dots & a_{1,n} \\\\ a_{2,1} & a_{2,2} & \\dots & a_{2,n} \\\\ \\vdots & \\vdots & \\ddots & \\vdots \\\\ a_{m,1} & a_{m,2} & \\dots & a_{m,n} \\end{bmatrix} $$"
   ]
  },
  {
   "cell_type": "code",
   "execution_count": 18,
   "metadata": {},
   "outputs": [],
   "source": [
    "## our old network as an adjacency matrix\n",
    "adj = np.array([\n",
    "    [ 0, 0, 0, 0, 0, 1, 0],\n",
    "    [ 0, 0, 0, 0, 1, 0, 0],\n",
    "    [ 0, 1, 0, 1, 0, 0, 0],\n",
    "    [ 0, 0, 0, 0, 1, 0, 0],\n",
    "    [ 0, 1, 0, 0, 0, 0, 1],\n",
    "    [ 0, 0, 0, 0, 1, 0, 0],\n",
    "    [ 1, 0, 0, 0, 0, 0, 0]\n",
    "])"
   ]
  },
  {
   "cell_type": "markdown",
   "metadata": {},
   "source": [
    "The first thing we need to define is called the _transition matrix_, which is a modification of the adjacency matrix in which each element in a given row is divided by its sum. This means the rows of a transition matrix always add up to 1, and consequently describes the probability that outbound traffic diffuses to adjacent webpages. Note: we'll talk more able forming probabilities from data in future chapters, and for the sake of this chapter take the details for granted. We can still perform the arithmetic!\n",
    "\n",
    "$$ P = \\begin{bmatrix} \\frac{a_{1,1}}{\\sum{a_{1,j}}} & \\frac{a_{1,2}}{\\sum{a_{1,j}}} & \\dots & \\frac{a_{1,n}}{\\sum{a_{1,j}}} \\\\ \\frac{a_{2,1}}{\\sum{a_{2,j}}} & \\frac{a_{2,2}}{\\sum{a_{2,j}}} & \\dots & \\frac{a_{2,n}}{\\sum{a_{2,j}}} \\\\ \\vdots & \\vdots & \\ddots & \\vdots \\\\ \\frac{a_{n,1}}{\\sum{a_{n,j}}} & \\frac{a_{n,2}}{\\sum{a_{n,j}}} & \\dots & \\frac{a_{n,n}}{\\sum{a_{n,j}}} \\end{bmatrix} $$\n",
    "\n",
    "The individual values, $P_{i,j}$, tell us the probability that a surfer surfs (randomly) away from page $i$ and onto page $j$. To divide by the row sums of $A$ we can use:\n",
    "+ `np.sum(A, axis = 1)`\n",
    "\n",
    "then we'll have to take the transpose of this afterwords, to get a column vector that makes sure the rows are divided by their sums. However, this is not something numpy does by default, since vectors are 1-dimensional arrays to numpy, :/. So, we'll have to do a quick list comprehension to build a column vector from a list of 1-element (row-sum) lists:"
   ]
  },
  {
   "cell_type": "code",
   "execution_count": 19,
   "metadata": {},
   "outputs": [
    {
     "name": "stdout",
     "output_type": "stream",
     "text": [
      "[[1]\n",
      " [1]\n",
      " [2]\n",
      " [1]\n",
      " [2]\n",
      " [1]\n",
      " [1]] \n",
      "\n",
      "[[0.  0.  0.  0.  0.  1.  0. ]\n",
      " [0.  0.  0.  0.  1.  0.  0. ]\n",
      " [0.  0.5 0.  0.5 0.  0.  0. ]\n",
      " [0.  0.  0.  0.  1.  0.  0. ]\n",
      " [0.  0.5 0.  0.  0.  0.  0.5]\n",
      " [0.  0.  0.  0.  1.  0.  0. ]\n",
      " [1.  0.  0.  0.  0.  0.  0. ]]\n"
     ]
    }
   ],
   "source": [
    "## make the row sums into a column vector\n",
    "rowsums = np.array([[x] for x in np.sum(adj, axis = 1)])\n",
    "\n",
    "print(rowsums, '\\n')\n",
    "\n",
    "## make the transition matrix\n",
    "P = adj / rowsums\n",
    "print(P)"
   ]
  },
  {
   "cell_type": "markdown",
   "metadata": {},
   "source": [
    "#### 4.2.1.4 PageRank is all about _inbound_ traffic\n",
    "By taking the transpose of this matrix, we swap rows for columns, and then change the interpretation of a given row to be a node's inbound traffic probabilities:\n",
    "\n",
    " $$ Q = P^T = \\begin{bmatrix} \\frac{a_{1,1}}{\\sum{a_{1,j}}} & \\frac{a_{2,1}}{\\sum{a_{2,j}}} & \\dots & \\frac{a_{n,1}}{\\sum{a_{n,j}}} \\\\ \\frac{a_{1,2}}{\\sum{a_{1,j}}} & \\frac{a_{2,2}}{\\sum{a_{2,j}}} & \\dots & \\frac{a_{n,2}}{\\sum{a_{n,j}}} \\\\ \\vdots & \\vdots & \\ddots & \\vdots \\\\ \\frac{a_{1,n}}{\\sum{a_{1,j}}} & \\frac{a_{2,n}}{\\sum{a_{2,j}}} & \\dots & \\frac{a_{n,n}}{\\sum{a_{n,j}}} \\end{bmatrix} $$\n",
    " \n",
    "In other words, $Q_{i,j}$ tells us about the portion of surfers from page $j$ arriving at page $i$."
   ]
  },
  {
   "cell_type": "code",
   "execution_count": 20,
   "metadata": {},
   "outputs": [
    {
     "name": "stdout",
     "output_type": "stream",
     "text": [
      "[[0.  0.  0.  0.  0.  0.  1. ]\n",
      " [0.  0.  0.5 0.  0.5 0.  0. ]\n",
      " [0.  0.  0.  0.  0.  0.  0. ]\n",
      " [0.  0.  0.5 0.  0.  0.  0. ]\n",
      " [0.  1.  0.  1.  0.  1.  0. ]\n",
      " [1.  0.  0.  0.  0.  0.  0. ]\n",
      " [0.  0.  0.  0.  0.5 0.  0. ]]\n"
     ]
    }
   ],
   "source": [
    "## transpose the transition matrix into the inbound traffic matrix\n",
    "Q = np.transpose(P)\n",
    "\n",
    "print(Q)"
   ]
  },
  {
   "cell_type": "markdown",
   "metadata": {},
   "source": [
    "#### 4.2.1.5 Initializing the model\n",
    "Now it's time to start our surfers off. We'll need a vector, $v$, which has the same dimension of the (rows or columns) of our matrix (network), describing the portion of the websurfer population at each page. To make things simple, the web surfers start out equally distributed across all of our web pages. So, for our tiny network of $7$ webpages we'll have $\\frac{1}{7}$ of the surfers starting in each spot. In general, this would be:"
   ]
  },
  {
   "cell_type": "code",
   "execution_count": 21,
   "metadata": {},
   "outputs": [
    {
     "name": "stdout",
     "output_type": "stream",
     "text": [
      "[0.14285714 0.14285714 0.14285714 0.14285714 0.14285714 0.14285714\n",
      " 0.14285714]\n"
     ]
    }
   ],
   "source": [
    "## one seventh of the surfers start out at each node\n",
    "v = np.array([1, 1, 1, 1, 1, 1, 1]) / 7\n",
    "print(v)"
   ]
  },
  {
   "cell_type": "markdown",
   "metadata": {},
   "source": [
    "#### 4.2.1.6 Advancing the model\n",
    "\n",
    "This is th part where we allow the surfers to all 'click', and ask, where did they wind up? We can figure this out by using our inbound traffic, transition matrix ($Q$), since it tells us about how much traffic lands at each page. How? Matrix times vector! This will produce another (output) vector describing where everyone wound up.\n",
    "\n",
    "So, to figure out where the volume of surfers wound up after their first click, all we now have to do is multiply (dot product) $Q$ times $v(0)$:\n",
    "\n",
    " $$ \\begin{align} v(1) = Q\\cdot v(0) &= \\begin{bmatrix} q_{1,1} & q_{1,2} & \\dots & q_{1,n} \\\\ q_{2,1} & q_{2,2} & \\dots & q_{2,n} \\\\ \\vdots & \\vdots & \\ddots & \\vdots \\\\ q_{m,1} & q_{m,2} & \\dots & q_{m,n} \\end{bmatrix} \\cdot \\begin{bmatrix} v_{1} \\\\ v_{2} \\\\ \\vdots \\\\ v_{n} \\end{bmatrix}\\\\\\\\ & = \\begin{bmatrix} q_{1,1}v_{1} + q_{1,2}v_{2} + \\cdots + q_{1,n}v_{n} \\\\ q_{2,1}v_{1} + q_{2,2}v_{2} + \\cdots + q_{2,n}v_{n} \\\\ \\vdots \\\\ q_{m,1}v_{1} + q_{m,2}v_{2} + \\cdots + q_{m,n}v_{n} \\end{bmatrix} \\end{align} $$\n",
    " \n",
    "This is easy for us to do now with `NumPy`'s inner (dot) product:"
   ]
  },
  {
   "cell_type": "code",
   "execution_count": 22,
   "metadata": {},
   "outputs": [
    {
     "name": "stdout",
     "output_type": "stream",
     "text": [
      "[0.14285714 0.14285714 0.         0.07142857 0.42857143 0.14285714\n",
      " 0.07142857]\n"
     ]
    }
   ],
   "source": [
    "## to find where the surfers will wind up after clicking\n",
    "## simply take the dot product\n",
    "print(Q.dot(v))"
   ]
  },
  {
   "cell_type": "markdown",
   "metadata": {},
   "source": [
    "#### 4.2.1.7 So, where did all of the surfers go?\n",
    "Nobody wound up at $C$! That's because there's no way to get to $C$. If it's hard to see from $v(1)$, we can get a view from our visualization, since this is a small (toy) network:"
   ]
  },
  {
   "cell_type": "code",
   "execution_count": 23,
   "metadata": {},
   "outputs": [
    {
     "data": {
      "image/png": "[encoded data removed]",
      "text/plain": [
       "<Figure size 432x432 with 1 Axes>"
      ]
     },
     "metadata": {},
     "output_type": "display_data"
    }
   ],
   "source": [
    "## the names of our nodes\n",
    "names = {0: \"A\", 1: \"B\", 2: \"C\", 3: \"D\", 4: \"E\", 5: \"F\", 6: \"G\"}\n",
    "\n",
    "## bringing our adjacency matrix into networkX\n",
    "G = nx.from_numpy_matrix(adj, create_using = nx.DiGraph())\n",
    "\n",
    "## adding in the node labels\n",
    "G = nx.relabel_nodes(G, names)\n",
    "\n",
    "## make our figure a nice size (it's still matplotlib)\n",
    "fig = plt.figure(figsize = (6, 6))\n",
    "\n",
    "## draw our network\n",
    "nx.draw(G, with_labels = True, pos = nx.spectral_layout(G))\n",
    "\n"
   ]
  },
  {
   "cell_type": "markdown",
   "metadata": {},
   "source": [
    "#### 4.2.1.8 While linking is important, it's not (can't be) the whole PageRank story\n",
    "According to our model description, some of the surfers should give up and visit a random page. This would be entirely how $C$ should get visits, so how do we incorporate the behavior?\n",
    "\n",
    "It turns out we haven't accounted for this yet. Remember, we were going to call this give up probability $\\alpha$. Let's do what most other folks do and choose $\\alpha = 0.15$. This means that $\\frac{\\alpha}{n}$ of the surfers will wind up at $C$ or any other node, and that there's only a probability of $1 - \\alpha = 0.85$ that any surfer will surf by clicking. Putting this together, we have:\n",
    "\n",
    " $$ \n",
    " \\begin{align} \n",
    " v(1) &= \\frac{\\alpha}{n} + (1 - \\alpha)Q\\cdot v(0)\\\\ \n",
    " &=  \\begin{bmatrix} \n",
    "\\frac{\\alpha}{n} \\\\ \n",
    "\\frac{\\alpha}{n} \\\\ \n",
    " \\vdots \\\\ \n",
    "\\frac{\\alpha}{n} \n",
    " \\end{bmatrix} + \n",
    " (1 - \\alpha)\n",
    " \\begin{bmatrix} \n",
    " q_{1,1} & q_{1,2} & \\dots & q_{1,n} \\\\ \n",
    " q_{2,1} & q_{2,2} & \\dots & q_{2,n} \\\\ \n",
    " \\vdots & \\vdots & \\ddots & \\vdots \\\\ \n",
    " q_{m,1} & q_{m,2} & \\dots & q_{m,n} \n",
    " \\end{bmatrix} \\cdot \n",
    " \\begin{bmatrix} \n",
    " v_{1} \\\\ \n",
    " v_{2} \\\\ \n",
    " \\vdots \\\\ \n",
    " v_{n} \n",
    " \\end{bmatrix}\\\\\\\\ \n",
    " & = \\begin{bmatrix} \n",
    " \\frac{\\alpha}{n} + (1 - \\alpha)(q_{1,1}v_{1} + q_{1,2}v_{2} + \\cdots + q_{1,n}v_{n}) \\\\ \n",
    " \\frac{\\alpha}{n} + (1 - \\alpha)(q_{2,1}v_{1} + q_{2,2}v_{2} + \\cdots + q_{2,n}v_{n}) \\\\ \n",
    " \\vdots \\\\ \n",
    " \\frac{\\alpha}{n} + (1 - \\alpha)(q_{m,1}v_{1} + q_{m,2}v_{2} + \\cdots + q_{m,n}v_{n}) \n",
    " \\end{bmatrix}\n",
    " \\end{align} \n",
    " $$\n",
    " \n",
    "Since this just amounts to a few more pointwise operations—multiplying by and adding in constants—the update procedure is still pretty simple:"
   ]
  },
  {
   "cell_type": "code",
   "execution_count": 24,
   "metadata": {},
   "outputs": [
    {
     "name": "stdout",
     "output_type": "stream",
     "text": [
      "[0.14285714 0.14285714 0.02142857 0.08214286 0.38571429 0.14285714\n",
      " 0.08214286]\n"
     ]
    }
   ],
   "source": [
    "## the probability that a surfer gives up and starts over\n",
    "alpha = 0.15\n",
    "\n",
    "## find where the surfers will wind up after clicking\n",
    "## or give up and starting over\n",
    "print(alpha / 7 + (1 - alpha) * Q.dot(v))\n",
    "\n"
   ]
  },
  {
   "cell_type": "markdown",
   "metadata": {},
   "source": [
    "#### 4.2.1.9 So now where did the surfers all go?\n",
    "Okay, each page is now getting some traffic, but where is this all headed? Well, after all the surfers click or give up & start over, their supposed to just do it all over again! And that's exactly what this PageRank algorithm is all about. The surfers just keep surfing. So, where do they wind up? Well that's the thing—the surfers eventually pile up in a very specific way that stops changing. This should remind us of something&mdash;what do we call a vector that we can multiply by a matrix to get the same vector back? An _eigenvector_, yes! \n",
    "\n",
    "The way Google has set up this problem, the sequence:\n",
    "$$v(0), v(1), v(2), \\cdots$$\n",
    "\n",
    "converges towards a special eigenvector that is guaranteed to exist! They called this vector, $v_\\infty$, the PageRank vector, and it actually doesn't take that much looping to get close. Let's look at the first ten values:"
   ]
  },
  {
   "cell_type": "code",
   "execution_count": 25,
   "metadata": {},
   "outputs": [
    {
     "name": "stdout",
     "output_type": "stream",
     "text": [
      "[0.14285714 0.14285714 0.14285714 0.14285714 0.14285714 0.14285714\n",
      " 0.14285714] \n",
      "\n",
      "[0.14285714 0.14285714 0.02142857 0.08214286 0.38571429 0.14285714\n",
      " 0.08214286] \n",
      "\n",
      "[0.09125    0.19446429 0.02142857 0.03053571 0.33410714 0.14285714\n",
      " 0.18535714] \n",
      "\n",
      "[0.17898214 0.17253125 0.02142857 0.03053571 0.33410714 0.09899107\n",
      " 0.16342411] \n",
      "\n",
      "[0.16033906 0.17253125 0.02142857 0.03053571 0.2781779  0.17356339\n",
      " 0.16342411] \n",
      "\n",
      "[0.16033906 0.14876132 0.02142857 0.03053571 0.34156437 0.15771677\n",
      " 0.13965418] \n",
      "\n",
      "[0.14013462 0.17570057 0.02142857 0.03053571 0.30789031 0.15771677\n",
      " 0.16659343] \n",
      "\n",
      "[0.16303299 0.1613891  0.02142857 0.03053571 0.33078867 0.140543\n",
      " 0.15228195] \n",
      "\n",
      "[0.15086823 0.1711209  0.02142857 0.03053571 0.30402621 0.16000661\n",
      " 0.16201376] \n",
      "\n",
      "[0.15914027 0.15974685 0.02142857 0.03053571 0.32884231 0.14966657\n",
      " 0.15063971] \n",
      "\n",
      "[0.14947233 0.1702937  0.02142857 0.03053571 0.31038534 0.1566978\n",
      " 0.16118655] \n",
      "\n"
     ]
    }
   ],
   "source": [
    "## the probability that a surfer gives up and starts over\n",
    "alpha = 0.15\n",
    "\n",
    "## the initial distribution of surfers\n",
    "v = np.array([1, 1, 1, 1, 1, 1, 1]) / 7\n",
    "print(v, '\\n')\n",
    "\n",
    "## update the surfer locations each time step\n",
    "## with a matrix multiplication\n",
    "## a total of 10 time steps\n",
    "for i in range(10):\n",
    "    ## updated where the surfers will wind up after clicking\n",
    "    ## or giving up and starting over\n",
    "    v = alpha / 7 + (1 - alpha) * Q.dot(v)\n",
    "    print(v, '\\n')"
   ]
  },
  {
   "cell_type": "markdown",
   "metadata": {},
   "source": [
    "#### 4.2.1.10 Interpreting and utilizing the output\n",
    "So, it looks like $C$ and $D$ don't get many surfers, while $E$ winds up with twice as many as it started with!\n",
    "\n",
    "In fact, we can visualize (since the network is small) this converging balance of page importance, which Google uses to rank the hits it presents to you when you search:"
   ]
  },
  {
   "cell_type": "code",
   "execution_count": 26,
   "metadata": {},
   "outputs": [
    {
     "data": {
      "image/png": "[encoded data removed]",
      "text/plain": [
       "<Figure size 432x432 with 1 Axes>"
      ]
     },
     "metadata": {},
     "output_type": "display_data"
    }
   ],
   "source": [
    "## the probability that a surfer gives up and starts over\n",
    "alpha = 0.15\n",
    "\n",
    "## the initial distribution of surfers\n",
    "v = np.array([1, 1, 1, 1, 1, 1, 1]) / 7\n",
    "\n",
    "## update the surfer locations each time step\n",
    "## with a matrix multiplication\n",
    "## a total of 100 time steps\n",
    "for i in range(100):\n",
    "    ## updated where the surfers will wind up after clicking\n",
    "    ## or giving up and starting over\n",
    "    v = alpha / 7 + (1 - alpha) * Q.dot(v)\n",
    "\n",
    "## the names of our nodes\n",
    "names = {0: \"A\", 1: \"B\", 2: \"C\", 3: \"D\", 4: \"E\", 5: \"F\", 6: \"G\"}\n",
    "\n",
    "## bringing our adjacency matrix into networkX\n",
    "G = nx.from_numpy_matrix(adj, create_using = nx.DiGraph())\n",
    "\n",
    "## make our figure a nice size (it's still matplotlib)\n",
    "fig = plt.figure(figsize = (6, 6))\n",
    "\n",
    "## draw our network\n",
    "nx.draw(G, labels = names, with_labels = True, pos = nx.spectral_layout(G), node_size = v * 8000)"
   ]
  },
  {
   "cell_type": "markdown",
   "metadata": {},
   "source": [
    "#### 4.2.1.11 Is this really all it is?\n",
    "So, according to the model, i.e., the network structure _and_ the rules on random web surfing that were put in place, $E$ is the most important node. But this isn't all that Google does to find pages for you. In reality, Google's algorithms takes a lot of different information and pulls it together. This models says what's important about a network's structure. Other stuff has to come in as well, like does the page match the searcher's keywords? \n",
    "\n",
    "At this point, Google's search algorithm incorporates a lot of different modeling strategies, but PageRank gave the search giant an early lead that no other really was ever able to make up for. This is in part because Google's strategy was much more advanced than the others of the time, but competition catches up quick, and to stay on top Google had to optimize (and still does) continually. This is where features like search personalization came from!"
   ]
  },
  {
   "cell_type": "markdown",
   "metadata": {},
   "source": [
    "#### 4.2.1.12 Exercise: implementing a PageRank experiment\n",
    "Run pagerank using the code provided in __Sec. 3.2.1.10__, but on a small network of your design loaded into NetworkX. Use this to pull out a numpy matrix and run the algorithm. Review the output, and interpret which node is the 'most important'."
   ]
  },
  {
   "cell_type": "code",
   "execution_count": 27,
   "metadata": {},
   "outputs": [],
   "source": [
    "## code here"
   ]
  },
  {
   "cell_type": "markdown",
   "metadata": {},
   "source": [
    "### 4.2.2 Association Rule Mining\n",
    "The above application of basic network theory  to web search is an example of the analysis of non-numerical (oftentimes referred to as _categorical_) data. Webpages are categories that are linked together by some relationship that we define&mdash;the hyperlink. But this is just one example, so to finish off our discussion we'll discuss another excellent technique for digging deeper into your categorical data which we will now discuss is called _association rule mining_, which play a very important rule in recommender systems, like Amazon's \"you might also like to buy\" features. "
   ]
  },
  {
   "cell_type": "markdown",
   "metadata": {},
   "source": [
    "#### 4.2.2.1 Frequently co-occurring itemsets\n",
    "Association rule mining is generally used to obtain patterns in the co-occuring associations amongst a specific collection of items. Since it is so frequently applied to shopping, it is also often referred to as _market basket analysis_. The main object is to find certain associations of items which occur together more frequently than one might expect due solely to random chance. The canonical example usually discussed when introducing the concept is the so-called Beer and Diapers association. The idea (this is probably totally made up) is that men who go to the store in search of diapers are more likely to also buy beer. "
   ]
  },
  {
   "cell_type": "markdown",
   "metadata": {},
   "source": [
    "#### 4.2.2.2 Transaction data\n",
    "Let's make up and examine a totally hypothetical retail transaction database for a store, detailing $600,000$ transactions overall:\n",
    "+ 7,500 transactions involve diapers (1.25 %)\n",
    "+ 60,000 transactions involve beer (10%)\n",
    "+ 6,000 transactions involve both beer and diapers (1%)"
   ]
  },
  {
   "cell_type": "markdown",
   "metadata": {},
   "source": [
    "#### 4.2.2.3 Quantifying co-occurrence\n",
    "If it was the case that no significant relationship exists between the purchase of diapers and beer, we would expect that 10% of those who purchase diapers would also purchase beer (since 10% of the transactions overall involved beer). But our example holds that 80% of them do (6,000 / 7,500)! This is 8 times as many as we might expect due to random chance. This factor is often referred to as _lift_, which is formally defined as the ratio of of the observed frequency of co-occurence to the expected frequency. There are other important statistics relative to the problem of association rule mining. These are worthy of study in their own right and will come in closer to our conversation on statistics, but for the sake of our conversation here are not as important as another aspect of this application."
   ]
  },
  {
   "cell_type": "markdown",
   "metadata": {},
   "source": [
    "#### 4.2.2.4 Combinations of items\n",
    "Note that in order to compute the lift (above) we had to know how often the two items&mdash;beer _and_ diapers&mdash;ocurred _together_. This is a counting problem and not as simple as calculating any individual items _frequency_, as the frequency of _sets_ of items relies on looking at all possible 2-, 3-item, etc., combinations inside of a given itemset. This is where our network's picuture comes in, but in particular to help up build a _principled_ intuition for how to navigate large database for combinations of items for which it's actually _worth_ computing lift."
   ]
  },
  {
   "cell_type": "markdown",
   "metadata": {},
   "source": [
    "#### 4.2.2.5 So, where's the network's picture?\n",
    "We found the lift in our example by just manually counting the occurences in the database. Of course, we can use Python to automate this for us.  These statistics are easy enough to code up, but computing the combinations themselves can be costly. The problem is, in a large transaction database of potentially large (many-item) transactions there are a _huge_ number of combinations to count from the item subsets of item sets (transactions). Some of these won't occur very _frequently_, so should we really bother to count them all?"
   ]
  },
  {
   "cell_type": "markdown",
   "metadata": {},
   "source": [
    "#### 4.2.2.6 A _lattice_ of related itemsets\n",
    "The network we're going to look at here is really only a _theoretical_ relevance to the association rule mining problem we're talking about. The theoretical utility in this case means that there's really no reason for the modeler to ever construct such a network, but rather learn from it and apply knowledge to solve a problem. What it allows a modeler to do (supposing they're creating the algorithm) is inituitively understand a critical aspect of the problem that can be leveraged. We'll call this this critical insight the _Apriori principle_, and for the sake of this discussion should be taken anectodally for the kinds of insight that we may draw from a networks picture.\n",
    "\n",
    "In particular, the type of network structure we're talking about is called a _lattice_. A lattice is a rigid, crystaline structure, i.e., can only contain certain linkages/exist in a very particular shape. The formal definition of lattice relies on the accumulation of some substantial mathematical language, so we'll just focus on our application. Our lattice (network) will consist of itemsets as nodes, linked by the property of subsumation. In other words, one itemset links to another if you can build the larger from the smaller by adding a single item. An entire latice may be constructed from the subsets of a single itemset, like $\\{A,B,C,D\\}$. This would look like the following:\n",
    "\n",
    "![lattice](images/lattice.png)\n",
    "\n",
    "What this tells us is that, before computing anything for an itemset such as $\\{A,B,C\\}$, we should first be consider the related itemsets $\\{A,B\\}$, $\\{B,C\\}$, and $\\{A,C\\}$.\n"
   ]
  },
  {
   "cell_type": "markdown",
   "metadata": {},
   "source": [
    "#### 4.2.2.7 Counting itemset combinations \n",
    "While we called it frequency, in association rule mining the number of times a particular itemset occurs (potentially as a subset of a basket) is called the itemset's _support_. The question we're going to explore is, is it possible to   _only_ compute statistics for itemsets that occurred at least as often as some set support threshold? \n",
    "\n",
    "Let's call the support threshold $t$. The Apriori principle ultimately tells us which itemsets we should even bother checking the support for. The key observation from the lattice is that, e.g., since the itemset $\\{A,B,C\\}$ implies the existence of itemsets $\\{A,B\\}$, $\\{B,C\\}$, and $\\{A,C\\}$, the support of $\\{A,B,C\\}$ can't be larger than that of any of the smaller three. So, if _any_ of the smaller three (2-)item sets don't have support above the threshold $t$, we would automatically know that the support of $\\{A,B,C\\}$ cannot be above $t$&mdash;so don't even bother checking! Returning to our picture, if we found that $\\{A,B\\}$'s support was less than $t$ we could cross off a large section of the lattice, including $\\{A,B,C\\}$:\n",
    "\n",
    "![lattice](images/pruned-lattice.png)\n",
    "\n",
    "This is referred to as a 'bottom-up' strategy to 'pruning' the lattice, as one starts by observing the smallest possible itemsets (the singletons) for support. The&mdash;_Apriori_&mdash;algorithm then only goes on to observe the support larger, subsuming itemsets for which _all_ predecessors had support above the threshold. The result is a much more efficient mechanism to counting co-occurrence."
   ]
  },
  {
   "cell_type": "markdown",
   "metadata": {},
   "source": [
    "#### 4.2.2.8 Exercise: the apriori algorithm\n",
    "Make up a tiny market basket dataset with $10$ baskets of `{A,B,D,F}`-like purchases make sure they have overlapping itemsets! Then, utilize the apriori principle to find all frequent itemsets, given a set support threshold (of your choosing)."
   ]
  },
  {
   "cell_type": "code",
   "execution_count": 28,
   "metadata": {},
   "outputs": [],
   "source": [
    "## code here"
   ]
  }
 ],
 "metadata": {
  "kernelspec": {
   "display_name": "Python 3",
   "language": "python",
   "name": "python3"
  },
  "language_info": {
   "codemirror_mode": {
    "name": "ipython",
    "version": 3
   },
   "file_extension": ".py",
   "mimetype": "text/x-python",
   "name": "python",
   "nbconvert_exporter": "python",
   "pygments_lexer": "ipython3",
   "version": "3.7.0"
  }
 },
 "nbformat": 4,
 "nbformat_minor": 2
}
